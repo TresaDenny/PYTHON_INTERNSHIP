
import pandas as pd
import numpy as np
from sklearn.model_selection import train_test_split
from sklearn.feature_extraction.text import CountVectorizer
from sklearn.naive_bayes import MultinomialNB
from sklearn.metrics import classification_report, confusion_matrix, accuracy_score
import seaborn as sns
import matplotlib.pyplot as plt

#2. Load dataset (e.g., SMS Spam Collection Dataset)
url = "https://raw.githubusercontent.com/justmarkham/pycon-2016-tutorial/master/data/sms.tsv"
df = pd.read_csv(url, sep='\t', header=None, names=['label', 'message'])

#3. Encode labels: ham=0, spam=1
df['label_num'] = df.label.map({'ham': 0, 'spam': 1})

#4. Text preprocessing & feature extraction
vectorizer = CountVectorizer()
X = vectorizer.fit_transform(df['message'])
y = df['label_num']

#5. Train-test split
X_train, X_test, y_train, y_test = train_test_split(X, y, test_size=0.2, random_state=42)

#6. Train the model
model = MultinomialNB()
model.fit(X_train, y_train)

#7. Predictions
y_pred = model.predict(X_test)

#8. Evaluation
print("🔍 Classification Report:\n", classification_report(y_test, y_pred))
print("✅ Accuracy Score:", accuracy_score(y_test, y_pred))

#9. Confusion matrix
conf_matrix = confusion_matrix(y_test, y_pred)
sns.heatmap(conf_matrix, annot=True, fmt='d', cmap='Blues', xticklabels=['Ham', 'Spam'], yticklabels=['Ham', 'Spam'])
plt.xlabel('Predicted')
plt.ylabel('Actual')
plt.title('Confusion Matrix')
plt.show()

#10. Predict sample input
sample = ["Congratulations! You’ve won a $1000 Walmart gift card. Go to http://bit.ly/12345"]
sample_transformed = vectorizer.transform(sample)
prediction = model.predict(sample_transformed)
print("📨 Sample Message Prediction:", "Spam" if prediction[0] == 1 else "Ham")



